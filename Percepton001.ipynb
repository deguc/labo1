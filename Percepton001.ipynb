{
  "nbformat": 4,
  "nbformat_minor": 0,
  "metadata": {
    "colab": {
      "provenance": [],
      "authorship_tag": "ABX9TyNhsvCnVqTYOBjQnsvHmQhL",
      "include_colab_link": true
    },
    "kernelspec": {
      "name": "python3",
      "display_name": "Python 3"
    },
    "language_info": {
      "name": "python"
    }
  },
  "cells": [
    {
      "cell_type": "markdown",
      "metadata": {
        "id": "view-in-github",
        "colab_type": "text"
      },
      "source": [
        "<a href=\"https://colab.research.google.com/github/deguc/labo1/blob/main/Percepton001.ipynb\" target=\"_parent\"><img src=\"https://colab.research.google.com/assets/colab-badge.svg\" alt=\"Open In Colab\"/></a>"
      ]
    },
    {
      "cell_type": "code",
      "execution_count": 21,
      "metadata": {
        "colab": {
          "base_uri": "https://localhost:8080/"
        },
        "id": "k1gWYU5uR6s1",
        "outputId": "701206a4-d6be-4b19-f95a-64fb689407c9"
      },
      "outputs": [
        {
          "output_type": "stream",
          "name": "stdout",
          "text": [
            "1\n"
          ]
        }
      ],
      "source": [
        "import numpy as np\n",
        "\n",
        "#パーセプトロンの単純な試作\n",
        "#AND :w=[0.5,0.5],b=-0.3\n",
        "#OE  :w=[0.5,0,5],b=-0.7\n",
        "#NAND:w=[-0.5,-0.5],b=0.7\n",
        "\n",
        "def Perceptron(x1,x2):\n",
        "  x=np.array([x1,x2])     #入力データ\n",
        "  w=np.array([-0.5,-0.5])   #重み\n",
        "  b=0.7                  #バイアス\n",
        "  y=np.matmul(x,w)+b      #出力データ\n",
        "  return (y>0)*1          #発火判定\n",
        "\n",
        "y=Perceptron(1,0)\n",
        "print(y)\n",
        "  "
      ]
    }
  ]
}